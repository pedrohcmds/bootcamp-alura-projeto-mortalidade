{
  "nbformat": 4,
  "nbformat_minor": 0,
  "metadata": {
    "colab": {
      "name": "Projeto - Módulo 1.ipynb",
      "provenance": [],
      "collapsed_sections": [],
      "mount_file_id": "1NwRjHQSvqdxwXdxoimDPA44v7BFxYppH",
      "authorship_tag": "ABX9TyOKXVrDcLK0C8GCBFkfVvS8",
      "include_colab_link": true
    },
    "kernelspec": {
      "name": "python3",
      "display_name": "Python 3"
    },
    "language_info": {
      "name": "python"
    }
  },
  "cells": [
    {
      "cell_type": "markdown",
      "metadata": {
        "id": "view-in-github",
        "colab_type": "text"
      },
      "source": [
        "<a href=\"https://colab.research.google.com/github/pedrohcmds/bootcamp-alura-projeto-mortalidade/blob/main/Projeto_M%C3%B3dulo_1.ipynb\" target=\"_parent\"><img src=\"https://colab.research.google.com/assets/colab-badge.svg\" alt=\"Open In Colab\"/></a>"
      ]
    },
    {
      "cell_type": "markdown",
      "metadata": {
        "id": "quQ716_UiLNL"
      },
      "source": [
        "# Análise de Dados de Mortalidade de doenças\n",
        "\n",
        "Estudando os dados da saúde no Bootcamp de ciência de dados da Alura, me deparei com um conjunto de dados que é tanto interessante quanto perturbador.\n",
        "\n",
        "Refefre-se ao número de pessoas por mortes evitáveis. Isso me chamou a atenção, pois de pronto me surgiram diversas dúvidas:\n",
        "\n",
        "- O que são doenças evitáveis?\n",
        "- Porque as pessoas ainda morrem de doenças evitáveis? \n",
        "\n",
        "Então, esse estudo objetiva entender melhor esssas e outras questões sobre óbitos por doenças evitáveis a partir da análise dos dados do DataSUS."
      ]
    },
    {
      "cell_type": "markdown",
      "metadata": {
        "id": "ctEspEU413Dd"
      },
      "source": [
        ""
      ]
    },
    {
      "cell_type": "markdown",
      "metadata": {
        "id": "cZWvd74AivaI"
      },
      "source": [
        "### Importando Bibliotecas"
      ]
    },
    {
      "cell_type": "code",
      "metadata": {
        "id": "RZLPZmpuhCR7"
      },
      "source": [
        "import pandas as pd\n",
        "import matplotlib.pyplot as plt\n",
        "import seaborn as sns\n",
        "import numpy as np"
      ],
      "execution_count": 1,
      "outputs": []
    },
    {
      "cell_type": "markdown",
      "metadata": {
        "id": "Y-r43dfym0gk"
      },
      "source": [
        "# 1- Importando os Dados"
      ]
    },
    {
      "cell_type": "code",
      "metadata": {
        "id": "EYhHRZuPi0aV"
      },
      "source": [
        "arquivo_dados_mortes = 'https://raw.githubusercontent.com/pedrohcmds/bootcamp-alura-projeto-mortalidade/main/dados/mortes_evitaveis_por_ano_por_estado.csv'"
      ],
      "execution_count": 2,
      "outputs": []
    },
    {
      "cell_type": "code",
      "metadata": {
        "id": "GAvZC0uZhIXD"
      },
      "source": [
        "dados_mortes = pd.read_csv(arquivo_dados_mortes,  sep=';', encoding='ISO-8859-1', skiprows=3, skipfooter=9, thousands='.', decimal=',', engine='python')"
      ],
      "execution_count": 3,
      "outputs": []
    },
    {
      "cell_type": "markdown",
      "metadata": {
        "id": "PkEkwUIOn63y"
      },
      "source": [
        "# 2 - Analise Exploratória e limpeza de dados"
      ]
    },
    {
      "cell_type": "code",
      "metadata": {
        "colab": {
          "base_uri": "https://localhost:8080/",
          "height": 204
        },
        "id": "4n1F7JQxn0An",
        "outputId": "cc93bb76-c842-4bab-c7c8-cd634e33fe95"
      },
      "source": [
        "dados_mortes.head()"
      ],
      "execution_count": 4,
      "outputs": [
        {
          "output_type": "execute_result",
          "data": {
            "text/html": [
              "<div>\n",
              "<style scoped>\n",
              "    .dataframe tbody tr th:only-of-type {\n",
              "        vertical-align: middle;\n",
              "    }\n",
              "\n",
              "    .dataframe tbody tr th {\n",
              "        vertical-align: top;\n",
              "    }\n",
              "\n",
              "    .dataframe thead th {\n",
              "        text-align: right;\n",
              "    }\n",
              "</style>\n",
              "<table border=\"1\" class=\"dataframe\">\n",
              "  <thead>\n",
              "    <tr style=\"text-align: right;\">\n",
              "      <th></th>\n",
              "      <th>Unidade da Federação</th>\n",
              "      <th>1996</th>\n",
              "      <th>1997</th>\n",
              "      <th>1998</th>\n",
              "      <th>1999</th>\n",
              "      <th>2000</th>\n",
              "      <th>2001</th>\n",
              "      <th>2002</th>\n",
              "      <th>2003</th>\n",
              "      <th>2004</th>\n",
              "      <th>2005</th>\n",
              "      <th>2006</th>\n",
              "      <th>2007</th>\n",
              "      <th>2008</th>\n",
              "      <th>2009</th>\n",
              "      <th>2010</th>\n",
              "      <th>2011</th>\n",
              "      <th>2012</th>\n",
              "      <th>2013</th>\n",
              "      <th>2014</th>\n",
              "      <th>2015</th>\n",
              "      <th>2016</th>\n",
              "      <th>2017</th>\n",
              "      <th>2018</th>\n",
              "      <th>2019</th>\n",
              "      <th>Total</th>\n",
              "    </tr>\n",
              "  </thead>\n",
              "  <tbody>\n",
              "    <tr>\n",
              "      <th>0</th>\n",
              "      <td>11 Rondônia</td>\n",
              "      <td>3118</td>\n",
              "      <td>3154</td>\n",
              "      <td>3618</td>\n",
              "      <td>3548</td>\n",
              "      <td>3762</td>\n",
              "      <td>4142</td>\n",
              "      <td>4162</td>\n",
              "      <td>4324</td>\n",
              "      <td>4305</td>\n",
              "      <td>4132</td>\n",
              "      <td>4073</td>\n",
              "      <td>3754</td>\n",
              "      <td>4215</td>\n",
              "      <td>4618</td>\n",
              "      <td>4839</td>\n",
              "      <td>4697</td>\n",
              "      <td>5103</td>\n",
              "      <td>4865</td>\n",
              "      <td>4959</td>\n",
              "      <td>4976</td>\n",
              "      <td>5342</td>\n",
              "      <td>5187</td>\n",
              "      <td>5047</td>\n",
              "      <td>5164</td>\n",
              "      <td>105104</td>\n",
              "    </tr>\n",
              "    <tr>\n",
              "      <th>1</th>\n",
              "      <td>12 Acre</td>\n",
              "      <td>1267</td>\n",
              "      <td>1300</td>\n",
              "      <td>1329</td>\n",
              "      <td>1242</td>\n",
              "      <td>1427</td>\n",
              "      <td>1425</td>\n",
              "      <td>1495</td>\n",
              "      <td>1489</td>\n",
              "      <td>1526</td>\n",
              "      <td>1549</td>\n",
              "      <td>1592</td>\n",
              "      <td>1653</td>\n",
              "      <td>1691</td>\n",
              "      <td>1722</td>\n",
              "      <td>1841</td>\n",
              "      <td>1903</td>\n",
              "      <td>2023</td>\n",
              "      <td>2023</td>\n",
              "      <td>2034</td>\n",
              "      <td>2075</td>\n",
              "      <td>2260</td>\n",
              "      <td>2372</td>\n",
              "      <td>2525</td>\n",
              "      <td>2456</td>\n",
              "      <td>42219</td>\n",
              "    </tr>\n",
              "    <tr>\n",
              "      <th>2</th>\n",
              "      <td>13 Amazonas</td>\n",
              "      <td>4601</td>\n",
              "      <td>4650</td>\n",
              "      <td>4948</td>\n",
              "      <td>5299</td>\n",
              "      <td>5949</td>\n",
              "      <td>6019</td>\n",
              "      <td>6158</td>\n",
              "      <td>6182</td>\n",
              "      <td>6452</td>\n",
              "      <td>6639</td>\n",
              "      <td>6818</td>\n",
              "      <td>7091</td>\n",
              "      <td>7785</td>\n",
              "      <td>7855</td>\n",
              "      <td>8284</td>\n",
              "      <td>8803</td>\n",
              "      <td>9086</td>\n",
              "      <td>9189</td>\n",
              "      <td>9766</td>\n",
              "      <td>10226</td>\n",
              "      <td>10354</td>\n",
              "      <td>10593</td>\n",
              "      <td>10870</td>\n",
              "      <td>11336</td>\n",
              "      <td>184953</td>\n",
              "    </tr>\n",
              "    <tr>\n",
              "      <th>3</th>\n",
              "      <td>14 Roraima</td>\n",
              "      <td>613</td>\n",
              "      <td>588</td>\n",
              "      <td>700</td>\n",
              "      <td>834</td>\n",
              "      <td>889</td>\n",
              "      <td>782</td>\n",
              "      <td>869</td>\n",
              "      <td>888</td>\n",
              "      <td>911</td>\n",
              "      <td>925</td>\n",
              "      <td>942</td>\n",
              "      <td>986</td>\n",
              "      <td>954</td>\n",
              "      <td>1001</td>\n",
              "      <td>1125</td>\n",
              "      <td>1065</td>\n",
              "      <td>1123</td>\n",
              "      <td>1275</td>\n",
              "      <td>1235</td>\n",
              "      <td>1376</td>\n",
              "      <td>1363</td>\n",
              "      <td>1596</td>\n",
              "      <td>1797</td>\n",
              "      <td>1799</td>\n",
              "      <td>25636</td>\n",
              "    </tr>\n",
              "    <tr>\n",
              "      <th>4</th>\n",
              "      <td>15 Pará</td>\n",
              "      <td>10012</td>\n",
              "      <td>11041</td>\n",
              "      <td>11961</td>\n",
              "      <td>12415</td>\n",
              "      <td>12593</td>\n",
              "      <td>14049</td>\n",
              "      <td>14137</td>\n",
              "      <td>15218</td>\n",
              "      <td>15594</td>\n",
              "      <td>16092</td>\n",
              "      <td>16573</td>\n",
              "      <td>17121</td>\n",
              "      <td>18685</td>\n",
              "      <td>19062</td>\n",
              "      <td>20359</td>\n",
              "      <td>20501</td>\n",
              "      <td>21229</td>\n",
              "      <td>21429</td>\n",
              "      <td>22158</td>\n",
              "      <td>23168</td>\n",
              "      <td>24050</td>\n",
              "      <td>24615</td>\n",
              "      <td>24970</td>\n",
              "      <td>24690</td>\n",
              "      <td>431722</td>\n",
              "    </tr>\n",
              "  </tbody>\n",
              "</table>\n",
              "</div>"
            ],
            "text/plain": [
              "  Unidade da Federação   1996   1997   1998  ...   2017   2018   2019   Total\n",
              "0          11 Rondônia   3118   3154   3618  ...   5187   5047   5164  105104\n",
              "1              12 Acre   1267   1300   1329  ...   2372   2525   2456   42219\n",
              "2          13 Amazonas   4601   4650   4948  ...  10593  10870  11336  184953\n",
              "3           14 Roraima    613    588    700  ...   1596   1797   1799   25636\n",
              "4              15 Pará  10012  11041  11961  ...  24615  24970  24690  431722\n",
              "\n",
              "[5 rows x 26 columns]"
            ]
          },
          "metadata": {
            "tags": []
          },
          "execution_count": 4
        }
      ]
    },
    {
      "cell_type": "code",
      "metadata": {
        "colab": {
          "base_uri": "https://localhost:8080/"
        },
        "id": "KDyWhGSipuHe",
        "outputId": "8b9a874e-b64d-4387-b0f3-feb9c0164fd6"
      },
      "source": [
        "# Verificação de dados nulos\n",
        "dados_mortes.isna().values.any()"
      ],
      "execution_count": 5,
      "outputs": [
        {
          "output_type": "execute_result",
          "data": {
            "text/plain": [
              "False"
            ]
          },
          "metadata": {
            "tags": []
          },
          "execution_count": 5
        }
      ]
    },
    {
      "cell_type": "code",
      "metadata": {
        "colab": {
          "base_uri": "https://localhost:8080/"
        },
        "id": "CX76YUFrqVJJ",
        "outputId": "8a2810ce-4bc3-45ed-fd4f-57ba827858b3"
      },
      "source": [
        "# Verificação de tamnho dos dados\n",
        "\n",
        "dados_mortes.shape"
      ],
      "execution_count": 6,
      "outputs": [
        {
          "output_type": "execute_result",
          "data": {
            "text/plain": [
              "(28, 26)"
            ]
          },
          "metadata": {
            "tags": []
          },
          "execution_count": 6
        }
      ]
    },
    {
      "cell_type": "code",
      "metadata": {
        "id": "taod9oBNYPKD"
      },
      "source": [
        "# Ordenando os dados por total de óbitos\n",
        "dados_mortes.sort_values('Total', inplace=True, ascending=False)"
      ],
      "execution_count": 7,
      "outputs": []
    },
    {
      "cell_type": "code",
      "metadata": {
        "id": "iT_6W_GRqhHg"
      },
      "source": [
        "# Retirando total das colunas\n",
        "\n",
        "dados_mortes_sem_total = dados_mortes.drop(axis='columns', columns='Total')"
      ],
      "execution_count": 8,
      "outputs": []
    },
    {
      "cell_type": "code",
      "metadata": {
        "id": "vLAf8ydQvCbo"
      },
      "source": [
        "# Colocando as unidades da federação como index do DataFrame\n",
        "dados_mortes_sem_total.drop(axis='columns', columns='Unidade da Federação', inplace = True)\n",
        "dados_mortes_sem_total = dados_mortes_sem_total.set_index(dados_mortes['Unidade da Federação'], drop=True)"
      ],
      "execution_count": 9,
      "outputs": []
    },
    {
      "cell_type": "code",
      "metadata": {
        "id": "YQOWzZdlsb0X"
      },
      "source": [
        "# Retirando total das linhas\n",
        "dados_mortes_sem_total.drop('Total', inplace=True, axis='index',)"
      ],
      "execution_count": 10,
      "outputs": []
    },
    {
      "cell_type": "code",
      "metadata": {
        "colab": {
          "base_uri": "https://localhost:8080/",
          "height": 235
        },
        "id": "vfCL0pN4vO7n",
        "outputId": "688ff6d7-b775-4b60-a53e-fd3d109e19fb"
      },
      "source": [
        "# Mostrando o dataframe limpo\n",
        "dados_mortes_sem_total.head()"
      ],
      "execution_count": 11,
      "outputs": [
        {
          "output_type": "execute_result",
          "data": {
            "text/html": [
              "<div>\n",
              "<style scoped>\n",
              "    .dataframe tbody tr th:only-of-type {\n",
              "        vertical-align: middle;\n",
              "    }\n",
              "\n",
              "    .dataframe tbody tr th {\n",
              "        vertical-align: top;\n",
              "    }\n",
              "\n",
              "    .dataframe thead th {\n",
              "        text-align: right;\n",
              "    }\n",
              "</style>\n",
              "<table border=\"1\" class=\"dataframe\">\n",
              "  <thead>\n",
              "    <tr style=\"text-align: right;\">\n",
              "      <th></th>\n",
              "      <th>1996</th>\n",
              "      <th>1997</th>\n",
              "      <th>1998</th>\n",
              "      <th>1999</th>\n",
              "      <th>2000</th>\n",
              "      <th>2001</th>\n",
              "      <th>2002</th>\n",
              "      <th>2003</th>\n",
              "      <th>2004</th>\n",
              "      <th>2005</th>\n",
              "      <th>2006</th>\n",
              "      <th>2007</th>\n",
              "      <th>2008</th>\n",
              "      <th>2009</th>\n",
              "      <th>2010</th>\n",
              "      <th>2011</th>\n",
              "      <th>2012</th>\n",
              "      <th>2013</th>\n",
              "      <th>2014</th>\n",
              "      <th>2015</th>\n",
              "      <th>2016</th>\n",
              "      <th>2017</th>\n",
              "      <th>2018</th>\n",
              "      <th>2019</th>\n",
              "    </tr>\n",
              "    <tr>\n",
              "      <th>Unidade da Federação</th>\n",
              "      <th></th>\n",
              "      <th></th>\n",
              "      <th></th>\n",
              "      <th></th>\n",
              "      <th></th>\n",
              "      <th></th>\n",
              "      <th></th>\n",
              "      <th></th>\n",
              "      <th></th>\n",
              "      <th></th>\n",
              "      <th></th>\n",
              "      <th></th>\n",
              "      <th></th>\n",
              "      <th></th>\n",
              "      <th></th>\n",
              "      <th></th>\n",
              "      <th></th>\n",
              "      <th></th>\n",
              "      <th></th>\n",
              "      <th></th>\n",
              "      <th></th>\n",
              "      <th></th>\n",
              "      <th></th>\n",
              "      <th></th>\n",
              "    </tr>\n",
              "  </thead>\n",
              "  <tbody>\n",
              "    <tr>\n",
              "      <th>35 São Paulo</th>\n",
              "      <td>155419</td>\n",
              "      <td>152166</td>\n",
              "      <td>151097</td>\n",
              "      <td>154449</td>\n",
              "      <td>155131</td>\n",
              "      <td>153187</td>\n",
              "      <td>151511</td>\n",
              "      <td>151440</td>\n",
              "      <td>150999</td>\n",
              "      <td>145536</td>\n",
              "      <td>147455</td>\n",
              "      <td>146545</td>\n",
              "      <td>148646</td>\n",
              "      <td>151301</td>\n",
              "      <td>153948</td>\n",
              "      <td>155199</td>\n",
              "      <td>154773</td>\n",
              "      <td>157635</td>\n",
              "      <td>157751</td>\n",
              "      <td>160062</td>\n",
              "      <td>164608</td>\n",
              "      <td>161409</td>\n",
              "      <td>163859</td>\n",
              "      <td>165989</td>\n",
              "    </tr>\n",
              "    <tr>\n",
              "      <th>33 Rio de Janeiro</th>\n",
              "      <td>77080</td>\n",
              "      <td>74209</td>\n",
              "      <td>75104</td>\n",
              "      <td>73635</td>\n",
              "      <td>71948</td>\n",
              "      <td>72966</td>\n",
              "      <td>73882</td>\n",
              "      <td>72838</td>\n",
              "      <td>73037</td>\n",
              "      <td>70672</td>\n",
              "      <td>72008</td>\n",
              "      <td>72835</td>\n",
              "      <td>73728</td>\n",
              "      <td>73905</td>\n",
              "      <td>74355</td>\n",
              "      <td>74329</td>\n",
              "      <td>72692</td>\n",
              "      <td>74693</td>\n",
              "      <td>74482</td>\n",
              "      <td>74697</td>\n",
              "      <td>79500</td>\n",
              "      <td>77532</td>\n",
              "      <td>79752</td>\n",
              "      <td>81334</td>\n",
              "    </tr>\n",
              "    <tr>\n",
              "      <th>31 Minas Gerais</th>\n",
              "      <td>60408</td>\n",
              "      <td>60891</td>\n",
              "      <td>61021</td>\n",
              "      <td>62580</td>\n",
              "      <td>59951</td>\n",
              "      <td>60991</td>\n",
              "      <td>60800</td>\n",
              "      <td>64602</td>\n",
              "      <td>66305</td>\n",
              "      <td>65367</td>\n",
              "      <td>68001</td>\n",
              "      <td>67636</td>\n",
              "      <td>68012</td>\n",
              "      <td>68948</td>\n",
              "      <td>71258</td>\n",
              "      <td>72227</td>\n",
              "      <td>72739</td>\n",
              "      <td>72540</td>\n",
              "      <td>73102</td>\n",
              "      <td>73442</td>\n",
              "      <td>76464</td>\n",
              "      <td>75928</td>\n",
              "      <td>74469</td>\n",
              "      <td>76125</td>\n",
              "    </tr>\n",
              "    <tr>\n",
              "      <th>43 Rio Grande do Sul</th>\n",
              "      <td>42373</td>\n",
              "      <td>41087</td>\n",
              "      <td>43033</td>\n",
              "      <td>42178</td>\n",
              "      <td>42218</td>\n",
              "      <td>42406</td>\n",
              "      <td>42571</td>\n",
              "      <td>42909</td>\n",
              "      <td>43699</td>\n",
              "      <td>42559</td>\n",
              "      <td>42995</td>\n",
              "      <td>44152</td>\n",
              "      <td>43479</td>\n",
              "      <td>44758</td>\n",
              "      <td>44727</td>\n",
              "      <td>45131</td>\n",
              "      <td>45279</td>\n",
              "      <td>46530</td>\n",
              "      <td>45704</td>\n",
              "      <td>45380</td>\n",
              "      <td>48056</td>\n",
              "      <td>47145</td>\n",
              "      <td>47448</td>\n",
              "      <td>47321</td>\n",
              "    </tr>\n",
              "    <tr>\n",
              "      <th>29 Bahia</th>\n",
              "      <td>30739</td>\n",
              "      <td>30025</td>\n",
              "      <td>31934</td>\n",
              "      <td>33212</td>\n",
              "      <td>34157</td>\n",
              "      <td>35240</td>\n",
              "      <td>36407</td>\n",
              "      <td>36696</td>\n",
              "      <td>37358</td>\n",
              "      <td>37508</td>\n",
              "      <td>39079</td>\n",
              "      <td>39798</td>\n",
              "      <td>42357</td>\n",
              "      <td>44206</td>\n",
              "      <td>45491</td>\n",
              "      <td>46262</td>\n",
              "      <td>47769</td>\n",
              "      <td>47942</td>\n",
              "      <td>49105</td>\n",
              "      <td>50116</td>\n",
              "      <td>51648</td>\n",
              "      <td>52576</td>\n",
              "      <td>52033</td>\n",
              "      <td>52701</td>\n",
              "    </tr>\n",
              "  </tbody>\n",
              "</table>\n",
              "</div>"
            ],
            "text/plain": [
              "                        1996    1997    1998  ...    2017    2018    2019\n",
              "Unidade da Federação                          ...                        \n",
              "35 São Paulo          155419  152166  151097  ...  161409  163859  165989\n",
              "33 Rio de Janeiro      77080   74209   75104  ...   77532   79752   81334\n",
              "31 Minas Gerais        60408   60891   61021  ...   75928   74469   76125\n",
              "43 Rio Grande do Sul   42373   41087   43033  ...   47145   47448   47321\n",
              "29 Bahia               30739   30025   31934  ...   52576   52033   52701\n",
              "\n",
              "[5 rows x 24 columns]"
            ]
          },
          "metadata": {
            "tags": []
          },
          "execution_count": 11
        }
      ]
    },
    {
      "cell_type": "markdown",
      "metadata": {
        "id": "yd3FfplB664c"
      },
      "source": [
        "### Plotando Gráficos"
      ]
    },
    {
      "cell_type": "code",
      "metadata": {
        "colab": {
          "base_uri": "https://localhost:8080/",
          "height": 282
        },
        "id": "PjTj-jF20q0h",
        "outputId": "1e4653e2-5898-427a-f519-f0b5e4dfb101"
      },
      "source": [
        "# Plotando alguns gráficos\n",
        "dados_mortes_sem_total.head().T.plot()"
      ],
      "execution_count": 12,
      "outputs": [
        {
          "output_type": "execute_result",
          "data": {
            "text/plain": [
              "<matplotlib.axes._subplots.AxesSubplot at 0x7f7167873f10>"
            ]
          },
          "metadata": {
            "tags": []
          },
          "execution_count": 12
        },
        {
          "output_type": "display_data",
          "data": {
            "image/png": "[encoded data removed]",
            "text/plain": [
              "<Figure size 432x288 with 1 Axes>"
            ]
          },
          "metadata": {
            "tags": [],
            "needs_background": "light"
          }
        }
      ]
    },
    {
      "cell_type": "code",
      "metadata": {
        "colab": {
          "base_uri": "https://localhost:8080/",
          "height": 404
        },
        "id": "sE8CBwuW1Dxe",
        "outputId": "9cc4a7c8-1229-4ccc-c5aa-887009265bbe"
      },
      "source": [
        "# Melhorando os Gráficos\n",
        "ax = dados_mortes_sem_total.tail(4).T.plot(figsize=(10,6))\n",
        "plt.title('Número de óbitos por causas evitáveis (1996-2019)')\n",
        "plt.ylabel('Número de óbitos')\n",
        "plt.xlabel('Anos')\n",
        "plt.grid(axis='y')\n",
        "ax.legend(bbox_to_anchor=(1.05, 1), loc='upper left')\n",
        "plt.show()"
      ],
      "execution_count": 13,
      "outputs": [
        {
          "output_type": "display_data",
          "data": {
            "image/png": "[encoded data removed]",
            "text/plain": [
              "<Figure size 720x432 with 1 Axes>"
            ]
          },
          "metadata": {
            "tags": [],
            "needs_background": "light"
          }
        }
      ]
    },
    {
      "cell_type": "code",
      "metadata": {
        "colab": {
          "base_uri": "https://localhost:8080/"
        },
        "id": "4WpQGC1Fb_fm",
        "outputId": "fccc1361-d3f5-47f0-a3f7-bb74db707d34"
      },
      "source": [
        "# Tirando a média por estado\n",
        "medias_por_estado = round(dados_mortes_sem_total.T.mean(),2)\n",
        "medias_por_estado.head(2)"
      ],
      "execution_count": 14,
      "outputs": [
        {
          "output_type": "execute_result",
          "data": {
            "text/plain": [
              "Unidade da Federação\n",
              "35 São Paulo         154588.12\n",
              "33 Rio de Janeiro     74633.88\n",
              "dtype: float64"
            ]
          },
          "metadata": {
            "tags": []
          },
          "execution_count": 14
        }
      ]
    },
    {
      "cell_type": "code",
      "metadata": {
        "id": "pHEZezZOdMp-",
        "colab": {
          "base_uri": "https://localhost:8080/"
        },
        "outputId": "323a9dd0-9c4c-4a3d-f436-b8b174c16ec5"
      },
      "source": [
        "# Tirando a média de todos os estados\n",
        "media_geral_por_estado = medias_por_estado.mean()\n",
        "media_geral_por_estado\n",
        "media_por_estado_por_mes = media_geral_por_estado/12\n",
        "print(f' Média geral por por estado: {media_geral_por_estado}\\n Média geral por mês: {media_por_estado_por_mes}')"
      ],
      "execution_count": 15,
      "outputs": [
        {
          "output_type": "stream",
          "text": [
            " Média geral por por estado: 24175.09444444445\n",
            " Média geral por mês: 2014.5912037037042\n"
          ],
          "name": "stdout"
        }
      ]
    },
    {
      "cell_type": "code",
      "metadata": {
        "colab": {
          "base_uri": "https://localhost:8080/",
          "height": 404
        },
        "id": "nCsPeVT4eLCU",
        "outputId": "1cbf52a3-bb82-4fe1-95e2-a77964a0399b"
      },
      "source": [
        "# Criando um gráfico com os estados com o menor número de mortes e a média\n",
        "ax = dados_mortes_sem_total.tail(4).T.plot(figsize=(10,6))\n",
        "plt.title('Estados com menos óbitos por causas evitáveis (1996-2019)')\n",
        "plt.ylabel('Número de óbitos')\n",
        "plt.xlabel('Anos')\n",
        "plt.axhline(y=media_por_estado_por_mes, linestyle='--', color='#E916BF', label='Média')\n",
        "plt.grid(axis='y')\n",
        "ax.legend(bbox_to_anchor=(1.05, 1), loc='upper left', title='Legenda')\n",
        "plt.show()"
      ],
      "execution_count": 16,
      "outputs": [
        {
          "output_type": "display_data",
          "data": {
            "image/png": "[encoded data removed]",
            "text/plain": [
              "<Figure size 720x432 with 1 Axes>"
            ]
          },
          "metadata": {
            "tags": [],
            "needs_background": "light"
          }
        }
      ]
    },
    {
      "cell_type": "code",
      "metadata": {
        "colab": {
          "base_uri": "https://localhost:8080/",
          "height": 404
        },
        "id": "jo72zK8a5Ack",
        "outputId": "797f5fd9-660a-4200-d269-13c4a7938332"
      },
      "source": [
        "# Criando um gráfico com os estados com o maior número de mortes e a média\n",
        "ax = dados_mortes_sem_total.head(4).T.plot(figsize=(10,6))\n",
        "plt.title('Estados com menos óbitos por causas evitáveis (1996-2019)')\n",
        "plt.ylabel('Número de óbitos')\n",
        "plt.xlabel('Anos')\n",
        "plt.axhline(y=media_por_estado_por_mes, linestyle='--', color='#E916BF', label='Média')\n",
        "plt.grid(axis='y')\n",
        "ax.legend(bbox_to_anchor=(1.05, 1), loc='upper left', title='Legenda')\n",
        "plt.show()"
      ],
      "execution_count": 17,
      "outputs": [
        {
          "output_type": "display_data",
          "data": {
            "image/png": "[encoded data removed]",
            "text/plain": [
              "<Figure size 720x432 with 1 Axes>"
            ]
          },
          "metadata": {
            "tags": [],
            "needs_background": "light"
          }
        }
      ]
    },
    {
      "cell_type": "markdown",
      "metadata": {
        "id": "_5AEtxw_n2sq"
      },
      "source": [
        "Agora vamos criar um gráfico com o estado com o e menor e maior número de óbitos totais"
      ]
    },
    {
      "cell_type": "code",
      "metadata": {
        "colab": {
          "base_uri": "https://localhost:8080/",
          "height": 142
        },
        "id": "GGuDZpr06z71",
        "outputId": "13e59a0d-3c86-481e-eb2a-b32a8f4469a4"
      },
      "source": [
        "maior_e_menor = pd.DataFrame()\n",
        "maior_e_menor = maior_e_menor.append(dados_mortes_sem_total.head(1))\n",
        "maior_e_menor = maior_e_menor.append(dados_mortes_sem_total.tail(1))\n",
        "maior_e_menor"
      ],
      "execution_count": 18,
      "outputs": [
        {
          "output_type": "execute_result",
          "data": {
            "text/html": [
              "<div>\n",
              "<style scoped>\n",
              "    .dataframe tbody tr th:only-of-type {\n",
              "        vertical-align: middle;\n",
              "    }\n",
              "\n",
              "    .dataframe tbody tr th {\n",
              "        vertical-align: top;\n",
              "    }\n",
              "\n",
              "    .dataframe thead th {\n",
              "        text-align: right;\n",
              "    }\n",
              "</style>\n",
              "<table border=\"1\" class=\"dataframe\">\n",
              "  <thead>\n",
              "    <tr style=\"text-align: right;\">\n",
              "      <th></th>\n",
              "      <th>1996</th>\n",
              "      <th>1997</th>\n",
              "      <th>1998</th>\n",
              "      <th>1999</th>\n",
              "      <th>2000</th>\n",
              "      <th>2001</th>\n",
              "      <th>2002</th>\n",
              "      <th>2003</th>\n",
              "      <th>2004</th>\n",
              "      <th>2005</th>\n",
              "      <th>2006</th>\n",
              "      <th>2007</th>\n",
              "      <th>2008</th>\n",
              "      <th>2009</th>\n",
              "      <th>2010</th>\n",
              "      <th>2011</th>\n",
              "      <th>2012</th>\n",
              "      <th>2013</th>\n",
              "      <th>2014</th>\n",
              "      <th>2015</th>\n",
              "      <th>2016</th>\n",
              "      <th>2017</th>\n",
              "      <th>2018</th>\n",
              "      <th>2019</th>\n",
              "    </tr>\n",
              "    <tr>\n",
              "      <th>Unidade da Federação</th>\n",
              "      <th></th>\n",
              "      <th></th>\n",
              "      <th></th>\n",
              "      <th></th>\n",
              "      <th></th>\n",
              "      <th></th>\n",
              "      <th></th>\n",
              "      <th></th>\n",
              "      <th></th>\n",
              "      <th></th>\n",
              "      <th></th>\n",
              "      <th></th>\n",
              "      <th></th>\n",
              "      <th></th>\n",
              "      <th></th>\n",
              "      <th></th>\n",
              "      <th></th>\n",
              "      <th></th>\n",
              "      <th></th>\n",
              "      <th></th>\n",
              "      <th></th>\n",
              "      <th></th>\n",
              "      <th></th>\n",
              "      <th></th>\n",
              "    </tr>\n",
              "  </thead>\n",
              "  <tbody>\n",
              "    <tr>\n",
              "      <th>35 São Paulo</th>\n",
              "      <td>155419</td>\n",
              "      <td>152166</td>\n",
              "      <td>151097</td>\n",
              "      <td>154449</td>\n",
              "      <td>155131</td>\n",
              "      <td>153187</td>\n",
              "      <td>151511</td>\n",
              "      <td>151440</td>\n",
              "      <td>150999</td>\n",
              "      <td>145536</td>\n",
              "      <td>147455</td>\n",
              "      <td>146545</td>\n",
              "      <td>148646</td>\n",
              "      <td>151301</td>\n",
              "      <td>153948</td>\n",
              "      <td>155199</td>\n",
              "      <td>154773</td>\n",
              "      <td>157635</td>\n",
              "      <td>157751</td>\n",
              "      <td>160062</td>\n",
              "      <td>164608</td>\n",
              "      <td>161409</td>\n",
              "      <td>163859</td>\n",
              "      <td>165989</td>\n",
              "    </tr>\n",
              "    <tr>\n",
              "      <th>14 Roraima</th>\n",
              "      <td>613</td>\n",
              "      <td>588</td>\n",
              "      <td>700</td>\n",
              "      <td>834</td>\n",
              "      <td>889</td>\n",
              "      <td>782</td>\n",
              "      <td>869</td>\n",
              "      <td>888</td>\n",
              "      <td>911</td>\n",
              "      <td>925</td>\n",
              "      <td>942</td>\n",
              "      <td>986</td>\n",
              "      <td>954</td>\n",
              "      <td>1001</td>\n",
              "      <td>1125</td>\n",
              "      <td>1065</td>\n",
              "      <td>1123</td>\n",
              "      <td>1275</td>\n",
              "      <td>1235</td>\n",
              "      <td>1376</td>\n",
              "      <td>1363</td>\n",
              "      <td>1596</td>\n",
              "      <td>1797</td>\n",
              "      <td>1799</td>\n",
              "    </tr>\n",
              "  </tbody>\n",
              "</table>\n",
              "</div>"
            ],
            "text/plain": [
              "                        1996    1997    1998  ...    2017    2018    2019\n",
              "Unidade da Federação                          ...                        \n",
              "35 São Paulo          155419  152166  151097  ...  161409  163859  165989\n",
              "14 Roraima               613     588     700  ...    1596    1797    1799\n",
              "\n",
              "[2 rows x 24 columns]"
            ]
          },
          "metadata": {
            "tags": []
          },
          "execution_count": 18
        }
      ]
    },
    {
      "cell_type": "code",
      "metadata": {
        "colab": {
          "base_uri": "https://localhost:8080/",
          "height": 404
        },
        "id": "3N_umc3X7hto",
        "outputId": "82306260-9c49-4269-a9f5-05d6d2ac5e45"
      },
      "source": [
        "# Criando um gráfico com os estados com o maior número de mortes e a média\n",
        "ax = maior_e_menor.T.plot(figsize=(10,6))\n",
        "plt.title('Estados com menos óbitos por causas evitáveis (1996-2019)')\n",
        "plt.ylabel('Número de óbitos')\n",
        "plt.xlabel('Anos')\n",
        "#plt.axhline(y=media_por_estado_por_mes, linestyle='--', color='#E916BF', label='Média')\n",
        "plt.grid(axis='y')\n",
        "ax.legend(bbox_to_anchor=(1.05, 1), loc='upper left', title='Legenda')\n",
        "plt.show()"
      ],
      "execution_count": 19,
      "outputs": [
        {
          "output_type": "display_data",
          "data": {
            "image/png": "[encoded data removed]",
            "text/plain": [
              "<Figure size 720x432 with 1 Axes>"
            ]
          },
          "metadata": {
            "tags": [],
            "needs_background": "light"
          }
        }
      ]
    },
    {
      "cell_type": "markdown",
      "metadata": {
        "id": "hYB7usXl_CEM"
      },
      "source": [
        "Esses dados são interessantes, e as visualizações também. Porém me pergunto o quanto desses números não é afetado pela população de cada estado.\n",
        "Para verificar essa possibilidade, vamos trazer os dados de população estimada e realizar novamente os gráficos, mas agora ocom o número de óbitos em relação à população.\n",
        "A base de dados que será utilizada para isso é a de estimativa de população do IBGE, disponível em https://www.ibge.gov.br/estatisticas/sociais/populacao/9103-estimativas-de-populacao.html?=&t=resultados."
      ]
    },
    {
      "cell_type": "code",
      "metadata": {
        "id": "uFvHFQBJAO4K",
        "colab": {
          "base_uri": "https://localhost:8080/",
          "height": 917
        },
        "outputId": "bcb9d858-4cc2-4496-9fb3-165cde91be77"
      },
      "source": [
        " colunas = dados_mortes_sem_total.columns[15:]\n",
        " dados_morte_sem_total_2011_2019 = dados_mortes_sem_total[colunas]\n",
        " dados_morte_sem_total_2011_2019"
      ],
      "execution_count": 25,
      "outputs": [
        {
          "output_type": "execute_result",
          "data": {
            "text/html": [
              "<div>\n",
              "<style scoped>\n",
              "    .dataframe tbody tr th:only-of-type {\n",
              "        vertical-align: middle;\n",
              "    }\n",
              "\n",
              "    .dataframe tbody tr th {\n",
              "        vertical-align: top;\n",
              "    }\n",
              "\n",
              "    .dataframe thead th {\n",
              "        text-align: right;\n",
              "    }\n",
              "</style>\n",
              "<table border=\"1\" class=\"dataframe\">\n",
              "  <thead>\n",
              "    <tr style=\"text-align: right;\">\n",
              "      <th></th>\n",
              "      <th>2011</th>\n",
              "      <th>2012</th>\n",
              "      <th>2013</th>\n",
              "      <th>2014</th>\n",
              "      <th>2015</th>\n",
              "      <th>2016</th>\n",
              "      <th>2017</th>\n",
              "      <th>2018</th>\n",
              "      <th>2019</th>\n",
              "    </tr>\n",
              "    <tr>\n",
              "      <th>Unidade da Federação</th>\n",
              "      <th></th>\n",
              "      <th></th>\n",
              "      <th></th>\n",
              "      <th></th>\n",
              "      <th></th>\n",
              "      <th></th>\n",
              "      <th></th>\n",
              "      <th></th>\n",
              "      <th></th>\n",
              "    </tr>\n",
              "  </thead>\n",
              "  <tbody>\n",
              "    <tr>\n",
              "      <th>35 São Paulo</th>\n",
              "      <td>155199</td>\n",
              "      <td>154773</td>\n",
              "      <td>157635</td>\n",
              "      <td>157751</td>\n",
              "      <td>160062</td>\n",
              "      <td>164608</td>\n",
              "      <td>161409</td>\n",
              "      <td>163859</td>\n",
              "      <td>165989</td>\n",
              "    </tr>\n",
              "    <tr>\n",
              "      <th>33 Rio de Janeiro</th>\n",
              "      <td>74329</td>\n",
              "      <td>72692</td>\n",
              "      <td>74693</td>\n",
              "      <td>74482</td>\n",
              "      <td>74697</td>\n",
              "      <td>79500</td>\n",
              "      <td>77532</td>\n",
              "      <td>79752</td>\n",
              "      <td>81334</td>\n",
              "    </tr>\n",
              "    <tr>\n",
              "      <th>31 Minas Gerais</th>\n",
              "      <td>72227</td>\n",
              "      <td>72739</td>\n",
              "      <td>72540</td>\n",
              "      <td>73102</td>\n",
              "      <td>73442</td>\n",
              "      <td>76464</td>\n",
              "      <td>75928</td>\n",
              "      <td>74469</td>\n",
              "      <td>76125</td>\n",
              "    </tr>\n",
              "    <tr>\n",
              "      <th>43 Rio Grande do Sul</th>\n",
              "      <td>45131</td>\n",
              "      <td>45279</td>\n",
              "      <td>46530</td>\n",
              "      <td>45704</td>\n",
              "      <td>45380</td>\n",
              "      <td>48056</td>\n",
              "      <td>47145</td>\n",
              "      <td>47448</td>\n",
              "      <td>47321</td>\n",
              "    </tr>\n",
              "    <tr>\n",
              "      <th>29 Bahia</th>\n",
              "      <td>46262</td>\n",
              "      <td>47769</td>\n",
              "      <td>47942</td>\n",
              "      <td>49105</td>\n",
              "      <td>50116</td>\n",
              "      <td>51648</td>\n",
              "      <td>52576</td>\n",
              "      <td>52033</td>\n",
              "      <td>52701</td>\n",
              "    </tr>\n",
              "    <tr>\n",
              "      <th>41 Paraná</th>\n",
              "      <td>41654</td>\n",
              "      <td>41645</td>\n",
              "      <td>41528</td>\n",
              "      <td>40457</td>\n",
              "      <td>41389</td>\n",
              "      <td>43182</td>\n",
              "      <td>40922</td>\n",
              "      <td>41730</td>\n",
              "      <td>41857</td>\n",
              "    </tr>\n",
              "    <tr>\n",
              "      <th>26 Pernambuco</th>\n",
              "      <td>33612</td>\n",
              "      <td>33326</td>\n",
              "      <td>33660</td>\n",
              "      <td>33344</td>\n",
              "      <td>35528</td>\n",
              "      <td>37974</td>\n",
              "      <td>37260</td>\n",
              "      <td>35659</td>\n",
              "      <td>36037</td>\n",
              "    </tr>\n",
              "    <tr>\n",
              "      <th>23 Ceará</th>\n",
              "      <td>25812</td>\n",
              "      <td>27504</td>\n",
              "      <td>28778</td>\n",
              "      <td>28903</td>\n",
              "      <td>29716</td>\n",
              "      <td>29030</td>\n",
              "      <td>31676</td>\n",
              "      <td>30902</td>\n",
              "      <td>29351</td>\n",
              "    </tr>\n",
              "    <tr>\n",
              "      <th>42 Santa Catarina</th>\n",
              "      <td>21657</td>\n",
              "      <td>21548</td>\n",
              "      <td>21414</td>\n",
              "      <td>21906</td>\n",
              "      <td>21996</td>\n",
              "      <td>23334</td>\n",
              "      <td>23018</td>\n",
              "      <td>23442</td>\n",
              "      <td>24023</td>\n",
              "    </tr>\n",
              "    <tr>\n",
              "      <th>52 Goiás</th>\n",
              "      <td>21864</td>\n",
              "      <td>22906</td>\n",
              "      <td>23157</td>\n",
              "      <td>23793</td>\n",
              "      <td>24189</td>\n",
              "      <td>23918</td>\n",
              "      <td>24266</td>\n",
              "      <td>24093</td>\n",
              "      <td>24229</td>\n",
              "    </tr>\n",
              "    <tr>\n",
              "      <th>15 Pará</th>\n",
              "      <td>20501</td>\n",
              "      <td>21229</td>\n",
              "      <td>21429</td>\n",
              "      <td>22158</td>\n",
              "      <td>23168</td>\n",
              "      <td>24050</td>\n",
              "      <td>24615</td>\n",
              "      <td>24970</td>\n",
              "      <td>24690</td>\n",
              "    </tr>\n",
              "    <tr>\n",
              "      <th>21 Maranhão</th>\n",
              "      <td>17563</td>\n",
              "      <td>17836</td>\n",
              "      <td>18674</td>\n",
              "      <td>19632</td>\n",
              "      <td>20025</td>\n",
              "      <td>20605</td>\n",
              "      <td>20681</td>\n",
              "      <td>20287</td>\n",
              "      <td>20040</td>\n",
              "    </tr>\n",
              "    <tr>\n",
              "      <th>32 Espírito Santo</th>\n",
              "      <td>13089</td>\n",
              "      <td>13209</td>\n",
              "      <td>13064</td>\n",
              "      <td>13118</td>\n",
              "      <td>13020</td>\n",
              "      <td>13300</td>\n",
              "      <td>13748</td>\n",
              "      <td>13411</td>\n",
              "      <td>13799</td>\n",
              "    </tr>\n",
              "    <tr>\n",
              "      <th>25 Paraíba</th>\n",
              "      <td>13299</td>\n",
              "      <td>13479</td>\n",
              "      <td>13850</td>\n",
              "      <td>13525</td>\n",
              "      <td>13935</td>\n",
              "      <td>14532</td>\n",
              "      <td>14032</td>\n",
              "      <td>14034</td>\n",
              "      <td>14202</td>\n",
              "    </tr>\n",
              "    <tr>\n",
              "      <th>27 Alagoas</th>\n",
              "      <td>12075</td>\n",
              "      <td>11745</td>\n",
              "      <td>12265</td>\n",
              "      <td>12325</td>\n",
              "      <td>12192</td>\n",
              "      <td>12885</td>\n",
              "      <td>12605</td>\n",
              "      <td>11863</td>\n",
              "      <td>12077</td>\n",
              "    </tr>\n",
              "    <tr>\n",
              "      <th>51 Mato Grosso</th>\n",
              "      <td>10251</td>\n",
              "      <td>10609</td>\n",
              "      <td>10695</td>\n",
              "      <td>11170</td>\n",
              "      <td>11032</td>\n",
              "      <td>11397</td>\n",
              "      <td>11276</td>\n",
              "      <td>11526</td>\n",
              "      <td>11522</td>\n",
              "    </tr>\n",
              "    <tr>\n",
              "      <th>24 Rio Grande do Norte</th>\n",
              "      <td>9714</td>\n",
              "      <td>9903</td>\n",
              "      <td>10280</td>\n",
              "      <td>10656</td>\n",
              "      <td>10908</td>\n",
              "      <td>11844</td>\n",
              "      <td>11799</td>\n",
              "      <td>11707</td>\n",
              "      <td>11725</td>\n",
              "    </tr>\n",
              "    <tr>\n",
              "      <th>50 Mato Grosso do Sul</th>\n",
              "      <td>8950</td>\n",
              "      <td>9033</td>\n",
              "      <td>9237</td>\n",
              "      <td>9115</td>\n",
              "      <td>9187</td>\n",
              "      <td>9897</td>\n",
              "      <td>9463</td>\n",
              "      <td>9690</td>\n",
              "      <td>9769</td>\n",
              "    </tr>\n",
              "    <tr>\n",
              "      <th>22 Piauí</th>\n",
              "      <td>9402</td>\n",
              "      <td>9688</td>\n",
              "      <td>9831</td>\n",
              "      <td>10269</td>\n",
              "      <td>10475</td>\n",
              "      <td>10619</td>\n",
              "      <td>10615</td>\n",
              "      <td>10647</td>\n",
              "      <td>10708</td>\n",
              "    </tr>\n",
              "    <tr>\n",
              "      <th>13 Amazonas</th>\n",
              "      <td>8803</td>\n",
              "      <td>9086</td>\n",
              "      <td>9189</td>\n",
              "      <td>9766</td>\n",
              "      <td>10226</td>\n",
              "      <td>10354</td>\n",
              "      <td>10593</td>\n",
              "      <td>10870</td>\n",
              "      <td>11336</td>\n",
              "    </tr>\n",
              "    <tr>\n",
              "      <th>53 Distrito Federal</th>\n",
              "      <td>7196</td>\n",
              "      <td>7151</td>\n",
              "      <td>7053</td>\n",
              "      <td>7429</td>\n",
              "      <td>7234</td>\n",
              "      <td>7254</td>\n",
              "      <td>7210</td>\n",
              "      <td>7061</td>\n",
              "      <td>7339</td>\n",
              "    </tr>\n",
              "    <tr>\n",
              "      <th>28 Sergipe</th>\n",
              "      <td>6741</td>\n",
              "      <td>7110</td>\n",
              "      <td>7409</td>\n",
              "      <td>7363</td>\n",
              "      <td>8122</td>\n",
              "      <td>8229</td>\n",
              "      <td>8026</td>\n",
              "      <td>7714</td>\n",
              "      <td>7686</td>\n",
              "    </tr>\n",
              "    <tr>\n",
              "      <th>11 Rondônia</th>\n",
              "      <td>4697</td>\n",
              "      <td>5103</td>\n",
              "      <td>4865</td>\n",
              "      <td>4959</td>\n",
              "      <td>4976</td>\n",
              "      <td>5342</td>\n",
              "      <td>5187</td>\n",
              "      <td>5047</td>\n",
              "      <td>5164</td>\n",
              "    </tr>\n",
              "    <tr>\n",
              "      <th>17 Tocantins</th>\n",
              "      <td>4086</td>\n",
              "      <td>4002</td>\n",
              "      <td>4133</td>\n",
              "      <td>4334</td>\n",
              "      <td>4324</td>\n",
              "      <td>4531</td>\n",
              "      <td>4784</td>\n",
              "      <td>4545</td>\n",
              "      <td>4555</td>\n",
              "    </tr>\n",
              "    <tr>\n",
              "      <th>12 Acre</th>\n",
              "      <td>1903</td>\n",
              "      <td>2023</td>\n",
              "      <td>2023</td>\n",
              "      <td>2034</td>\n",
              "      <td>2075</td>\n",
              "      <td>2260</td>\n",
              "      <td>2372</td>\n",
              "      <td>2525</td>\n",
              "      <td>2456</td>\n",
              "    </tr>\n",
              "    <tr>\n",
              "      <th>16 Amapá</th>\n",
              "      <td>1536</td>\n",
              "      <td>1670</td>\n",
              "      <td>1734</td>\n",
              "      <td>1800</td>\n",
              "      <td>1904</td>\n",
              "      <td>1964</td>\n",
              "      <td>1968</td>\n",
              "      <td>2117</td>\n",
              "      <td>2229</td>\n",
              "    </tr>\n",
              "    <tr>\n",
              "      <th>14 Roraima</th>\n",
              "      <td>1065</td>\n",
              "      <td>1123</td>\n",
              "      <td>1275</td>\n",
              "      <td>1235</td>\n",
              "      <td>1376</td>\n",
              "      <td>1363</td>\n",
              "      <td>1596</td>\n",
              "      <td>1797</td>\n",
              "      <td>1799</td>\n",
              "    </tr>\n",
              "  </tbody>\n",
              "</table>\n",
              "</div>"
            ],
            "text/plain": [
              "                          2011    2012    2013  ...    2017    2018    2019\n",
              "Unidade da Federação                            ...                        \n",
              "35 São Paulo            155199  154773  157635  ...  161409  163859  165989\n",
              "33 Rio de Janeiro        74329   72692   74693  ...   77532   79752   81334\n",
              "31 Minas Gerais          72227   72739   72540  ...   75928   74469   76125\n",
              "43 Rio Grande do Sul     45131   45279   46530  ...   47145   47448   47321\n",
              "29 Bahia                 46262   47769   47942  ...   52576   52033   52701\n",
              "41 Paraná                41654   41645   41528  ...   40922   41730   41857\n",
              "26 Pernambuco            33612   33326   33660  ...   37260   35659   36037\n",
              "23 Ceará                 25812   27504   28778  ...   31676   30902   29351\n",
              "42 Santa Catarina        21657   21548   21414  ...   23018   23442   24023\n",
              "52 Goiás                 21864   22906   23157  ...   24266   24093   24229\n",
              "15 Pará                  20501   21229   21429  ...   24615   24970   24690\n",
              "21 Maranhão              17563   17836   18674  ...   20681   20287   20040\n",
              "32 Espírito Santo        13089   13209   13064  ...   13748   13411   13799\n",
              "25 Paraíba               13299   13479   13850  ...   14032   14034   14202\n",
              "27 Alagoas               12075   11745   12265  ...   12605   11863   12077\n",
              "51 Mato Grosso           10251   10609   10695  ...   11276   11526   11522\n",
              "24 Rio Grande do Norte    9714    9903   10280  ...   11799   11707   11725\n",
              "50 Mato Grosso do Sul     8950    9033    9237  ...    9463    9690    9769\n",
              "22 Piauí                  9402    9688    9831  ...   10615   10647   10708\n",
              "13 Amazonas               8803    9086    9189  ...   10593   10870   11336\n",
              "53 Distrito Federal       7196    7151    7053  ...    7210    7061    7339\n",
              "28 Sergipe                6741    7110    7409  ...    8026    7714    7686\n",
              "11 Rondônia               4697    5103    4865  ...    5187    5047    5164\n",
              "17 Tocantins              4086    4002    4133  ...    4784    4545    4555\n",
              "12 Acre                   1903    2023    2023  ...    2372    2525    2456\n",
              "16 Amapá                  1536    1670    1734  ...    1968    2117    2229\n",
              "14 Roraima                1065    1123    1275  ...    1596    1797    1799\n",
              "\n",
              "[27 rows x 9 columns]"
            ]
          },
          "metadata": {
            "tags": []
          },
          "execution_count": 25
        }
      ]
    },
    {
      "cell_type": "code",
      "metadata": {
        "id": "3ljXliCx8GXw"
      },
      "source": [
        ""
      ],
      "execution_count": 26,
      "outputs": []
    }
  ]
}